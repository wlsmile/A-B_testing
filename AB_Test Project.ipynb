{
 "cells": [
  {
   "cell_type": "markdown",
   "id": "959320c8",
   "metadata": {},
   "source": [
    "#### Cookie Cats is a hugely popular mobile puzzle game developed by Tactile Entertainment. It's a classic \"connect three\" style puzzle game where the player must connect tiles of the same color in order to clear the board and win the level. As players progress through the game they will encounter gates that force them to wait some time before they can progress or make an in-app purchase. \n",
    "#### The company is tring to figure out the impact of moving the first gate  from level 30 to level 40 on player retention."
   ]
  },
  {
   "cell_type": "markdown",
   "id": "8772128f",
   "metadata": {},
   "source": [
    "### descriptive analysis-> visulization for 3 metrics-> check outlier->remove outlier-> visulization again -> check sample ratio mismatch-> check nomality and homogeneity-> test -> interpret result "
   ]
  },
  {
   "cell_type": "markdown",
   "id": "e162c498",
   "metadata": {},
   "source": [
    "### A/B test procedure \n",
    "\n",
    "\n",
    "#### 1. Objective of this A/B test: to decide wether moving the gate from level 30 to level 40 will affect players retention rate (both retention for 1 day and 7 days)\n",
    "\n",
    "#### 1.5 Exploratory analysis\n",
    "\n",
    "#### 2. Experiment Design\n",
    "     Key metric: game rounds played and retention rate. \n",
    "     Decide minimum detectable effect(MDE)/Practical significance\n",
    "\n",
    "     Unit of variant: \n",
    "     Control group: units belong to gate_30; Treatment group: units belong to gate_40\n",
    "\n",
    "     Decide statistical power: 0.8; Significance level: 0.05\n",
    "     Calculate sample size\n",
    "     Decide how long to run the experiment\n",
    "\n",
    "#### 3. Run parametric/non-parametric tests to detect the change and if the change is significant  \n",
    "\n",
    "#### 4. Sanity/validity check\n",
    "\n",
    "#### 5. Intepret the Result\n"
   ]
  },
  {
   "cell_type": "code",
   "execution_count": null,
   "id": "4c80df52",
   "metadata": {},
   "outputs": [],
   "source": []
  },
  {
   "cell_type": "code",
   "execution_count": null,
   "id": "fc4400f9",
   "metadata": {},
   "outputs": [],
   "source": [
    "import pandas as pd\n",
    "import numpy as np"
   ]
  },
  {
   "cell_type": "code",
   "execution_count": 1087,
   "id": "2285c1f5",
   "metadata": {},
   "outputs": [],
   "source": [
    "df = pd.read_csv('cookie_cats.csv', header = 0)"
   ]
  },
  {
   "cell_type": "code",
   "execution_count": 1088,
   "id": "72ada4df",
   "metadata": {
    "scrolled": true
   },
   "outputs": [
    {
     "data": {
      "text/html": [
       "<div>\n",
       "<style scoped>\n",
       "    .dataframe tbody tr th:only-of-type {\n",
       "        vertical-align: middle;\n",
       "    }\n",
       "\n",
       "    .dataframe tbody tr th {\n",
       "        vertical-align: top;\n",
       "    }\n",
       "\n",
       "    .dataframe thead th {\n",
       "        text-align: right;\n",
       "    }\n",
       "</style>\n",
       "<table border=\"1\" class=\"dataframe\">\n",
       "  <thead>\n",
       "    <tr style=\"text-align: right;\">\n",
       "      <th></th>\n",
       "      <th>userid</th>\n",
       "      <th>version</th>\n",
       "      <th>sum_gamerounds</th>\n",
       "      <th>retention_1</th>\n",
       "      <th>retention_7</th>\n",
       "    </tr>\n",
       "  </thead>\n",
       "  <tbody>\n",
       "    <tr>\n",
       "      <th>0</th>\n",
       "      <td>116</td>\n",
       "      <td>gate_30</td>\n",
       "      <td>3</td>\n",
       "      <td>False</td>\n",
       "      <td>False</td>\n",
       "    </tr>\n",
       "    <tr>\n",
       "      <th>1</th>\n",
       "      <td>337</td>\n",
       "      <td>gate_30</td>\n",
       "      <td>38</td>\n",
       "      <td>True</td>\n",
       "      <td>False</td>\n",
       "    </tr>\n",
       "    <tr>\n",
       "      <th>2</th>\n",
       "      <td>377</td>\n",
       "      <td>gate_40</td>\n",
       "      <td>165</td>\n",
       "      <td>True</td>\n",
       "      <td>False</td>\n",
       "    </tr>\n",
       "    <tr>\n",
       "      <th>3</th>\n",
       "      <td>483</td>\n",
       "      <td>gate_40</td>\n",
       "      <td>1</td>\n",
       "      <td>False</td>\n",
       "      <td>False</td>\n",
       "    </tr>\n",
       "    <tr>\n",
       "      <th>4</th>\n",
       "      <td>488</td>\n",
       "      <td>gate_40</td>\n",
       "      <td>179</td>\n",
       "      <td>True</td>\n",
       "      <td>True</td>\n",
       "    </tr>\n",
       "    <tr>\n",
       "      <th>...</th>\n",
       "      <td>...</td>\n",
       "      <td>...</td>\n",
       "      <td>...</td>\n",
       "      <td>...</td>\n",
       "      <td>...</td>\n",
       "    </tr>\n",
       "    <tr>\n",
       "      <th>90184</th>\n",
       "      <td>9999441</td>\n",
       "      <td>gate_40</td>\n",
       "      <td>97</td>\n",
       "      <td>True</td>\n",
       "      <td>False</td>\n",
       "    </tr>\n",
       "    <tr>\n",
       "      <th>90185</th>\n",
       "      <td>9999479</td>\n",
       "      <td>gate_40</td>\n",
       "      <td>30</td>\n",
       "      <td>False</td>\n",
       "      <td>False</td>\n",
       "    </tr>\n",
       "    <tr>\n",
       "      <th>90186</th>\n",
       "      <td>9999710</td>\n",
       "      <td>gate_30</td>\n",
       "      <td>28</td>\n",
       "      <td>True</td>\n",
       "      <td>False</td>\n",
       "    </tr>\n",
       "    <tr>\n",
       "      <th>90187</th>\n",
       "      <td>9999768</td>\n",
       "      <td>gate_40</td>\n",
       "      <td>51</td>\n",
       "      <td>True</td>\n",
       "      <td>False</td>\n",
       "    </tr>\n",
       "    <tr>\n",
       "      <th>90188</th>\n",
       "      <td>9999861</td>\n",
       "      <td>gate_40</td>\n",
       "      <td>16</td>\n",
       "      <td>False</td>\n",
       "      <td>False</td>\n",
       "    </tr>\n",
       "  </tbody>\n",
       "</table>\n",
       "<p>90189 rows × 5 columns</p>\n",
       "</div>"
      ],
      "text/plain": [
       "        userid  version  sum_gamerounds  retention_1  retention_7\n",
       "0          116  gate_30               3        False        False\n",
       "1          337  gate_30              38         True        False\n",
       "2          377  gate_40             165         True        False\n",
       "3          483  gate_40               1        False        False\n",
       "4          488  gate_40             179         True         True\n",
       "...        ...      ...             ...          ...          ...\n",
       "90184  9999441  gate_40              97         True        False\n",
       "90185  9999479  gate_40              30        False        False\n",
       "90186  9999710  gate_30              28         True        False\n",
       "90187  9999768  gate_40              51         True        False\n",
       "90188  9999861  gate_40              16        False        False\n",
       "\n",
       "[90189 rows x 5 columns]"
      ]
     },
     "execution_count": 1088,
     "metadata": {},
     "output_type": "execute_result"
    }
   ],
   "source": [
    "df"
   ]
  },
  {
   "cell_type": "markdown",
   "id": "45a13d06",
   "metadata": {},
   "source": [
    "## exploratory analysis"
   ]
  },
  {
   "cell_type": "code",
   "execution_count": 1089,
   "id": "f675d73a",
   "metadata": {
    "scrolled": true
   },
   "outputs": [
    {
     "data": {
      "text/html": [
       "<div>\n",
       "<style scoped>\n",
       "    .dataframe tbody tr th:only-of-type {\n",
       "        vertical-align: middle;\n",
       "    }\n",
       "\n",
       "    .dataframe tbody tr th {\n",
       "        vertical-align: top;\n",
       "    }\n",
       "\n",
       "    .dataframe thead th {\n",
       "        text-align: right;\n",
       "    }\n",
       "</style>\n",
       "<table border=\"1\" class=\"dataframe\">\n",
       "  <thead>\n",
       "    <tr style=\"text-align: right;\">\n",
       "      <th></th>\n",
       "      <th>userid</th>\n",
       "      <th>version</th>\n",
       "      <th>sum_gamerounds</th>\n",
       "      <th>retention_1</th>\n",
       "      <th>retention_7</th>\n",
       "    </tr>\n",
       "  </thead>\n",
       "  <tbody>\n",
       "    <tr>\n",
       "      <th>0</th>\n",
       "      <td>116</td>\n",
       "      <td>gate_30</td>\n",
       "      <td>3</td>\n",
       "      <td>False</td>\n",
       "      <td>False</td>\n",
       "    </tr>\n",
       "    <tr>\n",
       "      <th>1</th>\n",
       "      <td>337</td>\n",
       "      <td>gate_30</td>\n",
       "      <td>38</td>\n",
       "      <td>True</td>\n",
       "      <td>False</td>\n",
       "    </tr>\n",
       "    <tr>\n",
       "      <th>2</th>\n",
       "      <td>377</td>\n",
       "      <td>gate_40</td>\n",
       "      <td>165</td>\n",
       "      <td>True</td>\n",
       "      <td>False</td>\n",
       "    </tr>\n",
       "    <tr>\n",
       "      <th>3</th>\n",
       "      <td>483</td>\n",
       "      <td>gate_40</td>\n",
       "      <td>1</td>\n",
       "      <td>False</td>\n",
       "      <td>False</td>\n",
       "    </tr>\n",
       "    <tr>\n",
       "      <th>4</th>\n",
       "      <td>488</td>\n",
       "      <td>gate_40</td>\n",
       "      <td>179</td>\n",
       "      <td>True</td>\n",
       "      <td>True</td>\n",
       "    </tr>\n",
       "  </tbody>\n",
       "</table>\n",
       "</div>"
      ],
      "text/plain": [
       "   userid  version  sum_gamerounds  retention_1  retention_7\n",
       "0     116  gate_30               3        False        False\n",
       "1     337  gate_30              38         True        False\n",
       "2     377  gate_40             165         True        False\n",
       "3     483  gate_40               1        False        False\n",
       "4     488  gate_40             179         True         True"
      ]
     },
     "execution_count": 1089,
     "metadata": {},
     "output_type": "execute_result"
    }
   ],
   "source": [
    "df.head()"
   ]
  },
  {
   "cell_type": "code",
   "execution_count": 1090,
   "id": "69821afb",
   "metadata": {},
   "outputs": [],
   "source": [
    "df = df.replace({'TRUE': 1, 'FALSE':0})"
   ]
  },
  {
   "cell_type": "code",
   "execution_count": 1091,
   "id": "2b40db42",
   "metadata": {
    "scrolled": true
   },
   "outputs": [
    {
     "name": "stdout",
     "output_type": "stream",
     "text": [
      "<class 'pandas.core.frame.DataFrame'>\n",
      "RangeIndex: 90189 entries, 0 to 90188\n",
      "Data columns (total 5 columns):\n",
      " #   Column          Non-Null Count  Dtype \n",
      "---  ------          --------------  ----- \n",
      " 0   userid          90189 non-null  int64 \n",
      " 1   version         90189 non-null  object\n",
      " 2   sum_gamerounds  90189 non-null  int64 \n",
      " 3   retention_1     90189 non-null  bool  \n",
      " 4   retention_7     90189 non-null  bool  \n",
      "dtypes: bool(2), int64(2), object(1)\n",
      "memory usage: 2.2+ MB\n"
     ]
    }
   ],
   "source": [
    "df.info()"
   ]
  },
  {
   "cell_type": "code",
   "execution_count": 1092,
   "id": "6a0e797e",
   "metadata": {},
   "outputs": [
    {
     "data": {
      "text/plain": [
       "0"
      ]
     },
     "execution_count": 1092,
     "metadata": {},
     "output_type": "execute_result"
    }
   ],
   "source": [
    "#check if there is any duplicated data\n",
    "df.duplicated(subset = 'userid').sum() "
   ]
  },
  {
   "cell_type": "code",
   "execution_count": 1093,
   "id": "1c89c73c",
   "metadata": {},
   "outputs": [
    {
     "data": {
      "text/html": [
       "<div>\n",
       "<style scoped>\n",
       "    .dataframe tbody tr th:only-of-type {\n",
       "        vertical-align: middle;\n",
       "    }\n",
       "\n",
       "    .dataframe tbody tr th {\n",
       "        vertical-align: top;\n",
       "    }\n",
       "\n",
       "    .dataframe thead tr th {\n",
       "        text-align: left;\n",
       "    }\n",
       "\n",
       "    .dataframe thead tr:last-of-type th {\n",
       "        text-align: right;\n",
       "    }\n",
       "</style>\n",
       "<table border=\"1\" class=\"dataframe\">\n",
       "  <thead>\n",
       "    <tr>\n",
       "      <th></th>\n",
       "      <th></th>\n",
       "      <th colspan=\"5\" halign=\"left\">sum_gamerounds</th>\n",
       "    </tr>\n",
       "    <tr>\n",
       "      <th></th>\n",
       "      <th></th>\n",
       "      <th>mean</th>\n",
       "      <th>median</th>\n",
       "      <th>min</th>\n",
       "      <th>max</th>\n",
       "      <th>count</th>\n",
       "    </tr>\n",
       "    <tr>\n",
       "      <th>version</th>\n",
       "      <th>retention_1</th>\n",
       "      <th></th>\n",
       "      <th></th>\n",
       "      <th></th>\n",
       "      <th></th>\n",
       "      <th></th>\n",
       "    </tr>\n",
       "  </thead>\n",
       "  <tbody>\n",
       "    <tr>\n",
       "      <th rowspan=\"2\" valign=\"top\">gate_30</th>\n",
       "      <th>False</th>\n",
       "      <td>18.379591</td>\n",
       "      <td>6.0</td>\n",
       "      <td>0</td>\n",
       "      <td>49854</td>\n",
       "      <td>24666</td>\n",
       "    </tr>\n",
       "    <tr>\n",
       "      <th>True</th>\n",
       "      <td>94.411700</td>\n",
       "      <td>48.0</td>\n",
       "      <td>0</td>\n",
       "      <td>2961</td>\n",
       "      <td>20034</td>\n",
       "    </tr>\n",
       "    <tr>\n",
       "      <th rowspan=\"2\" valign=\"top\">gate_40</th>\n",
       "      <th>False</th>\n",
       "      <td>16.340402</td>\n",
       "      <td>6.0</td>\n",
       "      <td>0</td>\n",
       "      <td>1241</td>\n",
       "      <td>25370</td>\n",
       "    </tr>\n",
       "    <tr>\n",
       "      <th>True</th>\n",
       "      <td>95.381182</td>\n",
       "      <td>49.0</td>\n",
       "      <td>0</td>\n",
       "      <td>2640</td>\n",
       "      <td>20119</td>\n",
       "    </tr>\n",
       "  </tbody>\n",
       "</table>\n",
       "</div>"
      ],
      "text/plain": [
       "                    sum_gamerounds                         \n",
       "                              mean median min    max  count\n",
       "version retention_1                                        \n",
       "gate_30 False            18.379591    6.0   0  49854  24666\n",
       "        True             94.411700   48.0   0   2961  20034\n",
       "gate_40 False            16.340402    6.0   0   1241  25370\n",
       "        True             95.381182   49.0   0   2640  20119"
      ]
     },
     "execution_count": 1093,
     "metadata": {},
     "output_type": "execute_result"
    }
   ],
   "source": [
    "df.groupby([\"version\",\"retention_1\"]).agg({ \"sum_gamerounds\" : [\"mean\",'median','min','max','count']})"
   ]
  },
  {
   "cell_type": "code",
   "execution_count": 1094,
   "id": "f1400aaf",
   "metadata": {},
   "outputs": [
    {
     "data": {
      "text/html": [
       "<div>\n",
       "<style scoped>\n",
       "    .dataframe tbody tr th:only-of-type {\n",
       "        vertical-align: middle;\n",
       "    }\n",
       "\n",
       "    .dataframe tbody tr th {\n",
       "        vertical-align: top;\n",
       "    }\n",
       "\n",
       "    .dataframe thead tr th {\n",
       "        text-align: left;\n",
       "    }\n",
       "\n",
       "    .dataframe thead tr:last-of-type th {\n",
       "        text-align: right;\n",
       "    }\n",
       "</style>\n",
       "<table border=\"1\" class=\"dataframe\">\n",
       "  <thead>\n",
       "    <tr>\n",
       "      <th></th>\n",
       "      <th></th>\n",
       "      <th colspan=\"5\" halign=\"left\">sum_gamerounds</th>\n",
       "    </tr>\n",
       "    <tr>\n",
       "      <th></th>\n",
       "      <th></th>\n",
       "      <th>mean</th>\n",
       "      <th>median</th>\n",
       "      <th>min</th>\n",
       "      <th>max</th>\n",
       "      <th>count</th>\n",
       "    </tr>\n",
       "    <tr>\n",
       "      <th>version</th>\n",
       "      <th>retention_7</th>\n",
       "      <th></th>\n",
       "      <th></th>\n",
       "      <th></th>\n",
       "      <th></th>\n",
       "      <th></th>\n",
       "    </tr>\n",
       "  </thead>\n",
       "  <tbody>\n",
       "    <tr>\n",
       "      <th rowspan=\"2\" valign=\"top\">gate_30</th>\n",
       "      <th>False</th>\n",
       "      <td>25.796508</td>\n",
       "      <td>11.0</td>\n",
       "      <td>0</td>\n",
       "      <td>981</td>\n",
       "      <td>36198</td>\n",
       "    </tr>\n",
       "    <tr>\n",
       "      <th>True</th>\n",
       "      <td>165.962479</td>\n",
       "      <td>105.0</td>\n",
       "      <td>0</td>\n",
       "      <td>49854</td>\n",
       "      <td>8502</td>\n",
       "    </tr>\n",
       "    <tr>\n",
       "      <th rowspan=\"2\" valign=\"top\">gate_40</th>\n",
       "      <th>False</th>\n",
       "      <td>25.856356</td>\n",
       "      <td>11.0</td>\n",
       "      <td>0</td>\n",
       "      <td>2640</td>\n",
       "      <td>37210</td>\n",
       "    </tr>\n",
       "    <tr>\n",
       "      <th>True</th>\n",
       "      <td>165.649837</td>\n",
       "      <td>111.0</td>\n",
       "      <td>0</td>\n",
       "      <td>2294</td>\n",
       "      <td>8279</td>\n",
       "    </tr>\n",
       "  </tbody>\n",
       "</table>\n",
       "</div>"
      ],
      "text/plain": [
       "                    sum_gamerounds                         \n",
       "                              mean median min    max  count\n",
       "version retention_7                                        \n",
       "gate_30 False            25.796508   11.0   0    981  36198\n",
       "        True            165.962479  105.0   0  49854   8502\n",
       "gate_40 False            25.856356   11.0   0   2640  37210\n",
       "        True            165.649837  111.0   0   2294   8279"
      ]
     },
     "execution_count": 1094,
     "metadata": {},
     "output_type": "execute_result"
    }
   ],
   "source": [
    "df.groupby(['version', 'retention_7']).agg({'sum_gamerounds': [\"mean\",'median','min','max','count']})"
   ]
  },
  {
   "cell_type": "code",
   "execution_count": 1095,
   "id": "518b5a42",
   "metadata": {},
   "outputs": [
    {
     "data": {
      "text/html": [
       "<div>\n",
       "<style scoped>\n",
       "    .dataframe tbody tr th:only-of-type {\n",
       "        vertical-align: middle;\n",
       "    }\n",
       "\n",
       "    .dataframe tbody tr th {\n",
       "        vertical-align: top;\n",
       "    }\n",
       "\n",
       "    .dataframe thead th {\n",
       "        text-align: right;\n",
       "    }\n",
       "</style>\n",
       "<table border=\"1\" class=\"dataframe\">\n",
       "  <thead>\n",
       "    <tr style=\"text-align: right;\">\n",
       "      <th></th>\n",
       "      <th>count</th>\n",
       "      <th>mean</th>\n",
       "      <th>std</th>\n",
       "      <th>min</th>\n",
       "      <th>10%</th>\n",
       "      <th>25%</th>\n",
       "      <th>50%</th>\n",
       "      <th>75%</th>\n",
       "      <th>90%</th>\n",
       "      <th>99%</th>\n",
       "      <th>max</th>\n",
       "    </tr>\n",
       "  </thead>\n",
       "  <tbody>\n",
       "    <tr>\n",
       "      <th>sum_gamerounds</th>\n",
       "      <td>90189.0</td>\n",
       "      <td>51.872457</td>\n",
       "      <td>195.050858</td>\n",
       "      <td>0.0</td>\n",
       "      <td>1.0</td>\n",
       "      <td>5.0</td>\n",
       "      <td>16.0</td>\n",
       "      <td>51.0</td>\n",
       "      <td>134.0</td>\n",
       "      <td>493.0</td>\n",
       "      <td>49854.0</td>\n",
       "    </tr>\n",
       "  </tbody>\n",
       "</table>\n",
       "</div>"
      ],
      "text/plain": [
       "                  count       mean         std  min  10%  25%   50%   75%  \\\n",
       "sum_gamerounds  90189.0  51.872457  195.050858  0.0  1.0  5.0  16.0  51.0   \n",
       "\n",
       "                  90%    99%      max  \n",
       "sum_gamerounds  134.0  493.0  49854.0  "
      ]
     },
     "execution_count": 1095,
     "metadata": {},
     "output_type": "execute_result"
    }
   ],
   "source": [
    "# #drop the column thats not for anlaysis \n",
    "# df1= df.drop(['userid'], axis = 1, inplace =False)\n",
    "# 90 percentile of sum_gamerounds is on 134, but the maximum number of sum_gamerounds is 49854, there should be some outliers\n",
    "df[['sum_gamerounds']].describe([0.1,0.25,0.75,0.9,0.99]).T"
   ]
  },
  {
   "cell_type": "code",
   "execution_count": 1096,
   "id": "f12fe3b2",
   "metadata": {},
   "outputs": [
    {
     "data": {
      "text/html": [
       "<div>\n",
       "<style scoped>\n",
       "    .dataframe tbody tr th:only-of-type {\n",
       "        vertical-align: middle;\n",
       "    }\n",
       "\n",
       "    .dataframe tbody tr th {\n",
       "        vertical-align: top;\n",
       "    }\n",
       "\n",
       "    .dataframe thead th {\n",
       "        text-align: right;\n",
       "    }\n",
       "</style>\n",
       "<table border=\"1\" class=\"dataframe\">\n",
       "  <thead>\n",
       "    <tr style=\"text-align: right;\">\n",
       "      <th></th>\n",
       "      <th>count</th>\n",
       "      <th>mean</th>\n",
       "      <th>std</th>\n",
       "      <th>min</th>\n",
       "      <th>10%</th>\n",
       "      <th>25%</th>\n",
       "      <th>50%</th>\n",
       "      <th>75%</th>\n",
       "      <th>90%</th>\n",
       "      <th>99%</th>\n",
       "      <th>max</th>\n",
       "    </tr>\n",
       "  </thead>\n",
       "  <tbody>\n",
       "    <tr>\n",
       "      <th>sum_gamerounds</th>\n",
       "      <td>44700.0</td>\n",
       "      <td>52.456264</td>\n",
       "      <td>256.716423</td>\n",
       "      <td>0.0</td>\n",
       "      <td>1.0</td>\n",
       "      <td>5.0</td>\n",
       "      <td>17.0</td>\n",
       "      <td>50.0</td>\n",
       "      <td>135.0</td>\n",
       "      <td>493.0</td>\n",
       "      <td>49854.0</td>\n",
       "    </tr>\n",
       "  </tbody>\n",
       "</table>\n",
       "</div>"
      ],
      "text/plain": [
       "                  count       mean         std  min  10%  25%   50%   75%  \\\n",
       "sum_gamerounds  44700.0  52.456264  256.716423  0.0  1.0  5.0  17.0  50.0   \n",
       "\n",
       "                  90%    99%      max  \n",
       "sum_gamerounds  135.0  493.0  49854.0  "
      ]
     },
     "execution_count": 1096,
     "metadata": {},
     "output_type": "execute_result"
    }
   ],
   "source": [
    "df[df['version']=='gate_30'][['sum_gamerounds']].describe([0.1,0.25,0.75,0.9,0.99]).T"
   ]
  },
  {
   "cell_type": "code",
   "execution_count": 1097,
   "id": "31904db5",
   "metadata": {},
   "outputs": [
    {
     "data": {
      "text/html": [
       "<div>\n",
       "<style scoped>\n",
       "    .dataframe tbody tr th:only-of-type {\n",
       "        vertical-align: middle;\n",
       "    }\n",
       "\n",
       "    .dataframe tbody tr th {\n",
       "        vertical-align: top;\n",
       "    }\n",
       "\n",
       "    .dataframe thead th {\n",
       "        text-align: right;\n",
       "    }\n",
       "</style>\n",
       "<table border=\"1\" class=\"dataframe\">\n",
       "  <thead>\n",
       "    <tr style=\"text-align: right;\">\n",
       "      <th></th>\n",
       "      <th>count</th>\n",
       "      <th>mean</th>\n",
       "      <th>std</th>\n",
       "      <th>min</th>\n",
       "      <th>10%</th>\n",
       "      <th>25%</th>\n",
       "      <th>50%</th>\n",
       "      <th>75%</th>\n",
       "      <th>90%</th>\n",
       "      <th>99%</th>\n",
       "      <th>max</th>\n",
       "    </tr>\n",
       "  </thead>\n",
       "  <tbody>\n",
       "    <tr>\n",
       "      <th>sum_gamerounds</th>\n",
       "      <td>45489.0</td>\n",
       "      <td>51.298776</td>\n",
       "      <td>103.294416</td>\n",
       "      <td>0.0</td>\n",
       "      <td>1.0</td>\n",
       "      <td>5.0</td>\n",
       "      <td>16.0</td>\n",
       "      <td>52.0</td>\n",
       "      <td>134.0</td>\n",
       "      <td>492.12</td>\n",
       "      <td>2640.0</td>\n",
       "    </tr>\n",
       "  </tbody>\n",
       "</table>\n",
       "</div>"
      ],
      "text/plain": [
       "                  count       mean         std  min  10%  25%   50%   75%  \\\n",
       "sum_gamerounds  45489.0  51.298776  103.294416  0.0  1.0  5.0  16.0  52.0   \n",
       "\n",
       "                  90%     99%     max  \n",
       "sum_gamerounds  134.0  492.12  2640.0  "
      ]
     },
     "execution_count": 1097,
     "metadata": {},
     "output_type": "execute_result"
    }
   ],
   "source": [
    "df[df['version']=='gate_40'][['sum_gamerounds']].describe([0.1,0.25,0.75,0.9,0.99]).T"
   ]
  },
  {
   "cell_type": "code",
   "execution_count": 1098,
   "id": "e0b12c56",
   "metadata": {
    "scrolled": true
   },
   "outputs": [
    {
     "data": {
      "text/plain": [
       "version        2\n",
       "retention_1    2\n",
       "retention_7    2\n",
       "dtype: int64"
      ]
     },
     "execution_count": 1098,
     "metadata": {},
     "output_type": "execute_result"
    }
   ],
   "source": [
    "#check if the categorical variables have appropriate number of levels\n",
    "df_cat = df[['version','retention_1','retention_7']]\n",
    "df_cat.nunique()"
   ]
  },
  {
   "cell_type": "code",
   "execution_count": 1099,
   "id": "2a52bcdb",
   "metadata": {},
   "outputs": [
    {
     "name": "stdout",
     "output_type": "stream",
     "text": [
      "version : ['gate_30' 'gate_40']\n",
      "retention_1 : [False  True]\n",
      "retention_7 : [False  True]\n"
     ]
    }
   ],
   "source": [
    "#check the unique value for each categrical variable \n",
    "for i in df_cat:\n",
    "    print(i, ':', df_cat[i].unique())\n"
   ]
  },
  {
   "cell_type": "code",
   "execution_count": 1100,
   "id": "69ca8e5c",
   "metadata": {},
   "outputs": [
    {
     "data": {
      "image/png": "[encoded data removed]",
      "text/plain": [
       "<Figure size 600x400 with 2 Axes>"
      ]
     },
     "metadata": {},
     "output_type": "display_data"
    }
   ],
   "source": [
    "#boxplot for sum_gamerounds\n",
    "gate30game = df[df['version']=='gate_30'][['sum_gamerounds']]\n",
    "gate40game = df[df['version']=='gate_40'][['sum_gamerounds']]\n",
    "\n",
    "fig, ax = plt.subplots(1, 2, figsize = (6,4))\n",
    "\n",
    "ax[0].boxplot(gate30game)\n",
    "ax[0].set_xlabel('gate_30')\n",
    "ax[0].set_ylabel('percentile')\n",
    "\n",
    "\n",
    "ax[1].boxplot(gate40game)\n",
    "ax[1].set_xlabel('gate_40')\n",
    "\n",
    "\n",
    "fig.suptitle('Boxplot for game rounds played')\n",
    "plt.show()"
   ]
  },
  {
   "cell_type": "code",
   "execution_count": 1101,
   "id": "36c9acfa",
   "metadata": {},
   "outputs": [],
   "source": [
    "#according to the boxplot and the descriptive analysis, get rid of the outliers which sum_gamerounds>493\n",
    "\n",
    "df1 = df[df['sum_gamerounds']<=493]"
   ]
  },
  {
   "cell_type": "code",
   "execution_count": 1102,
   "id": "25ebbec3",
   "metadata": {},
   "outputs": [
    {
     "data": {
      "text/html": [
       "<div>\n",
       "<style scoped>\n",
       "    .dataframe tbody tr th:only-of-type {\n",
       "        vertical-align: middle;\n",
       "    }\n",
       "\n",
       "    .dataframe tbody tr th {\n",
       "        vertical-align: top;\n",
       "    }\n",
       "\n",
       "    .dataframe thead th {\n",
       "        text-align: right;\n",
       "    }\n",
       "</style>\n",
       "<table border=\"1\" class=\"dataframe\">\n",
       "  <thead>\n",
       "    <tr style=\"text-align: right;\">\n",
       "      <th></th>\n",
       "      <th>userid</th>\n",
       "      <th>version</th>\n",
       "      <th>sum_gamerounds</th>\n",
       "      <th>retention_1</th>\n",
       "      <th>retention_7</th>\n",
       "    </tr>\n",
       "  </thead>\n",
       "  <tbody>\n",
       "    <tr>\n",
       "      <th>0</th>\n",
       "      <td>116</td>\n",
       "      <td>gate_30</td>\n",
       "      <td>3</td>\n",
       "      <td>False</td>\n",
       "      <td>False</td>\n",
       "    </tr>\n",
       "    <tr>\n",
       "      <th>1</th>\n",
       "      <td>337</td>\n",
       "      <td>gate_30</td>\n",
       "      <td>38</td>\n",
       "      <td>True</td>\n",
       "      <td>False</td>\n",
       "    </tr>\n",
       "    <tr>\n",
       "      <th>2</th>\n",
       "      <td>377</td>\n",
       "      <td>gate_40</td>\n",
       "      <td>165</td>\n",
       "      <td>True</td>\n",
       "      <td>False</td>\n",
       "    </tr>\n",
       "    <tr>\n",
       "      <th>3</th>\n",
       "      <td>483</td>\n",
       "      <td>gate_40</td>\n",
       "      <td>1</td>\n",
       "      <td>False</td>\n",
       "      <td>False</td>\n",
       "    </tr>\n",
       "    <tr>\n",
       "      <th>4</th>\n",
       "      <td>488</td>\n",
       "      <td>gate_40</td>\n",
       "      <td>179</td>\n",
       "      <td>True</td>\n",
       "      <td>True</td>\n",
       "    </tr>\n",
       "  </tbody>\n",
       "</table>\n",
       "</div>"
      ],
      "text/plain": [
       "   userid  version  sum_gamerounds  retention_1  retention_7\n",
       "0     116  gate_30               3        False        False\n",
       "1     337  gate_30              38         True        False\n",
       "2     377  gate_40             165         True        False\n",
       "3     483  gate_40               1        False        False\n",
       "4     488  gate_40             179         True         True"
      ]
     },
     "execution_count": 1102,
     "metadata": {},
     "output_type": "execute_result"
    }
   ],
   "source": [
    "df1.head()"
   ]
  },
  {
   "cell_type": "code",
   "execution_count": 1103,
   "id": "6839afaa",
   "metadata": {},
   "outputs": [
    {
     "data": {
      "text/html": [
       "<div>\n",
       "<style scoped>\n",
       "    .dataframe tbody tr th:only-of-type {\n",
       "        vertical-align: middle;\n",
       "    }\n",
       "\n",
       "    .dataframe tbody tr th {\n",
       "        vertical-align: top;\n",
       "    }\n",
       "\n",
       "    .dataframe thead th {\n",
       "        text-align: right;\n",
       "    }\n",
       "</style>\n",
       "<table border=\"1\" class=\"dataframe\">\n",
       "  <thead>\n",
       "    <tr style=\"text-align: right;\">\n",
       "      <th></th>\n",
       "      <th>count</th>\n",
       "      <th>mean</th>\n",
       "      <th>std</th>\n",
       "      <th>min</th>\n",
       "      <th>10%</th>\n",
       "      <th>25%</th>\n",
       "      <th>50%</th>\n",
       "      <th>75%</th>\n",
       "      <th>90%</th>\n",
       "      <th>99%</th>\n",
       "      <th>max</th>\n",
       "    </tr>\n",
       "  </thead>\n",
       "  <tbody>\n",
       "    <tr>\n",
       "      <th>sum_gamerounds</th>\n",
       "      <td>89291.0</td>\n",
       "      <td>44.528273</td>\n",
       "      <td>71.827905</td>\n",
       "      <td>0.0</td>\n",
       "      <td>1.0</td>\n",
       "      <td>5.0</td>\n",
       "      <td>16.0</td>\n",
       "      <td>49.0</td>\n",
       "      <td>124.0</td>\n",
       "      <td>366.0</td>\n",
       "      <td>493.0</td>\n",
       "    </tr>\n",
       "  </tbody>\n",
       "</table>\n",
       "</div>"
      ],
      "text/plain": [
       "                  count       mean        std  min  10%  25%   50%   75%  \\\n",
       "sum_gamerounds  89291.0  44.528273  71.827905  0.0  1.0  5.0  16.0  49.0   \n",
       "\n",
       "                  90%    99%    max  \n",
       "sum_gamerounds  124.0  366.0  493.0  "
      ]
     },
     "execution_count": 1103,
     "metadata": {},
     "output_type": "execute_result"
    }
   ],
   "source": [
    "df1[['sum_gamerounds']].describe([0.1,0.25,0.75,0.9,0.99]).T"
   ]
  },
  {
   "cell_type": "code",
   "execution_count": 1104,
   "id": "c4a102ff",
   "metadata": {},
   "outputs": [
    {
     "data": {
      "text/html": [
       "<div>\n",
       "<style scoped>\n",
       "    .dataframe tbody tr th:only-of-type {\n",
       "        vertical-align: middle;\n",
       "    }\n",
       "\n",
       "    .dataframe tbody tr th {\n",
       "        vertical-align: top;\n",
       "    }\n",
       "\n",
       "    .dataframe thead tr th {\n",
       "        text-align: left;\n",
       "    }\n",
       "\n",
       "    .dataframe thead tr:last-of-type th {\n",
       "        text-align: right;\n",
       "    }\n",
       "</style>\n",
       "<table border=\"1\" class=\"dataframe\">\n",
       "  <thead>\n",
       "    <tr>\n",
       "      <th></th>\n",
       "      <th></th>\n",
       "      <th colspan=\"5\" halign=\"left\">sum_gamerounds</th>\n",
       "    </tr>\n",
       "    <tr>\n",
       "      <th></th>\n",
       "      <th></th>\n",
       "      <th>mean</th>\n",
       "      <th>median</th>\n",
       "      <th>min</th>\n",
       "      <th>max</th>\n",
       "      <th>count</th>\n",
       "    </tr>\n",
       "    <tr>\n",
       "      <th>version</th>\n",
       "      <th>retention_1</th>\n",
       "      <th></th>\n",
       "      <th></th>\n",
       "      <th></th>\n",
       "      <th></th>\n",
       "      <th></th>\n",
       "    </tr>\n",
       "  </thead>\n",
       "  <tbody>\n",
       "    <tr>\n",
       "      <th rowspan=\"2\" valign=\"top\">gate_30</th>\n",
       "      <th>False</th>\n",
       "      <td>15.992374</td>\n",
       "      <td>6.0</td>\n",
       "      <td>0</td>\n",
       "      <td>483</td>\n",
       "      <td>24653</td>\n",
       "    </tr>\n",
       "    <tr>\n",
       "      <th>True</th>\n",
       "      <td>80.722106</td>\n",
       "      <td>46.0</td>\n",
       "      <td>0</td>\n",
       "      <td>493</td>\n",
       "      <td>19601</td>\n",
       "    </tr>\n",
       "    <tr>\n",
       "      <th rowspan=\"2\" valign=\"top\">gate_40</th>\n",
       "      <th>False</th>\n",
       "      <td>16.047121</td>\n",
       "      <td>6.0</td>\n",
       "      <td>0</td>\n",
       "      <td>489</td>\n",
       "      <td>25360</td>\n",
       "    </tr>\n",
       "    <tr>\n",
       "      <th>True</th>\n",
       "      <td>80.933323</td>\n",
       "      <td>48.0</td>\n",
       "      <td>0</td>\n",
       "      <td>493</td>\n",
       "      <td>19677</td>\n",
       "    </tr>\n",
       "  </tbody>\n",
       "</table>\n",
       "</div>"
      ],
      "text/plain": [
       "                    sum_gamerounds                       \n",
       "                              mean median min  max  count\n",
       "version retention_1                                      \n",
       "gate_30 False            15.992374    6.0   0  483  24653\n",
       "        True             80.722106   46.0   0  493  19601\n",
       "gate_40 False            16.047121    6.0   0  489  25360\n",
       "        True             80.933323   48.0   0  493  19677"
      ]
     },
     "execution_count": 1104,
     "metadata": {},
     "output_type": "execute_result"
    }
   ],
   "source": [
    "df1.groupby(['version','retention_1']).agg({'sum_gamerounds': [\"mean\",'median','min','max','count']})"
   ]
  },
  {
   "cell_type": "code",
   "execution_count": 1105,
   "id": "3558fb6a",
   "metadata": {},
   "outputs": [
    {
     "data": {
      "text/html": [
       "<div>\n",
       "<style scoped>\n",
       "    .dataframe tbody tr th:only-of-type {\n",
       "        vertical-align: middle;\n",
       "    }\n",
       "\n",
       "    .dataframe tbody tr th {\n",
       "        vertical-align: top;\n",
       "    }\n",
       "\n",
       "    .dataframe thead tr th {\n",
       "        text-align: left;\n",
       "    }\n",
       "\n",
       "    .dataframe thead tr:last-of-type th {\n",
       "        text-align: right;\n",
       "    }\n",
       "</style>\n",
       "<table border=\"1\" class=\"dataframe\">\n",
       "  <thead>\n",
       "    <tr>\n",
       "      <th></th>\n",
       "      <th></th>\n",
       "      <th colspan=\"5\" halign=\"left\">sum_gamerounds</th>\n",
       "    </tr>\n",
       "    <tr>\n",
       "      <th></th>\n",
       "      <th></th>\n",
       "      <th>mean</th>\n",
       "      <th>median</th>\n",
       "      <th>min</th>\n",
       "      <th>max</th>\n",
       "      <th>count</th>\n",
       "    </tr>\n",
       "    <tr>\n",
       "      <th>version</th>\n",
       "      <th>retention_7</th>\n",
       "      <th></th>\n",
       "      <th></th>\n",
       "      <th></th>\n",
       "      <th></th>\n",
       "      <th></th>\n",
       "    </tr>\n",
       "  </thead>\n",
       "  <tbody>\n",
       "    <tr>\n",
       "      <th rowspan=\"2\" valign=\"top\">gate_30</th>\n",
       "      <th>False</th>\n",
       "      <td>25.418537</td>\n",
       "      <td>11.0</td>\n",
       "      <td>0</td>\n",
       "      <td>490</td>\n",
       "      <td>36176</td>\n",
       "    </tr>\n",
       "    <tr>\n",
       "      <th>True</th>\n",
       "      <td>130.843402</td>\n",
       "      <td>97.5</td>\n",
       "      <td>0</td>\n",
       "      <td>493</td>\n",
       "      <td>8078</td>\n",
       "    </tr>\n",
       "    <tr>\n",
       "      <th rowspan=\"2\" valign=\"top\">gate_40</th>\n",
       "      <th>False</th>\n",
       "      <td>25.518472</td>\n",
       "      <td>11.0</td>\n",
       "      <td>0</td>\n",
       "      <td>491</td>\n",
       "      <td>37192</td>\n",
       "    </tr>\n",
       "    <tr>\n",
       "      <th>True</th>\n",
       "      <td>133.893818</td>\n",
       "      <td>104.0</td>\n",
       "      <td>0</td>\n",
       "      <td>493</td>\n",
       "      <td>7845</td>\n",
       "    </tr>\n",
       "  </tbody>\n",
       "</table>\n",
       "</div>"
      ],
      "text/plain": [
       "                    sum_gamerounds                       \n",
       "                              mean median min  max  count\n",
       "version retention_7                                      \n",
       "gate_30 False            25.418537   11.0   0  490  36176\n",
       "        True            130.843402   97.5   0  493   8078\n",
       "gate_40 False            25.518472   11.0   0  491  37192\n",
       "        True            133.893818  104.0   0  493   7845"
      ]
     },
     "execution_count": 1105,
     "metadata": {},
     "output_type": "execute_result"
    }
   ],
   "source": [
    "df1.groupby(['version','retention_7']).agg({'sum_gamerounds': [\"mean\",'median','min','max','count']})"
   ]
  },
  {
   "cell_type": "code",
   "execution_count": 1106,
   "id": "67e0cf65",
   "metadata": {},
   "outputs": [
    {
     "data": {
      "text/html": [
       "<div>\n",
       "<style scoped>\n",
       "    .dataframe tbody tr th:only-of-type {\n",
       "        vertical-align: middle;\n",
       "    }\n",
       "\n",
       "    .dataframe tbody tr th {\n",
       "        vertical-align: top;\n",
       "    }\n",
       "\n",
       "    .dataframe thead th {\n",
       "        text-align: right;\n",
       "    }\n",
       "</style>\n",
       "<table border=\"1\" class=\"dataframe\">\n",
       "  <thead>\n",
       "    <tr style=\"text-align: right;\">\n",
       "      <th></th>\n",
       "      <th>count</th>\n",
       "      <th>mean</th>\n",
       "      <th>std</th>\n",
       "      <th>min</th>\n",
       "      <th>10%</th>\n",
       "      <th>25%</th>\n",
       "      <th>50%</th>\n",
       "      <th>75%</th>\n",
       "      <th>90%</th>\n",
       "      <th>99%</th>\n",
       "      <th>max</th>\n",
       "    </tr>\n",
       "  </thead>\n",
       "  <tbody>\n",
       "    <tr>\n",
       "      <th>sum_gamerounds</th>\n",
       "      <td>44254.0</td>\n",
       "      <td>44.662494</td>\n",
       "      <td>72.120593</td>\n",
       "      <td>0.0</td>\n",
       "      <td>1.0</td>\n",
       "      <td>5.0</td>\n",
       "      <td>16.0</td>\n",
       "      <td>48.0</td>\n",
       "      <td>125.0</td>\n",
       "      <td>369.47</td>\n",
       "      <td>493.0</td>\n",
       "    </tr>\n",
       "  </tbody>\n",
       "</table>\n",
       "</div>"
      ],
      "text/plain": [
       "                  count       mean        std  min  10%  25%   50%   75%  \\\n",
       "sum_gamerounds  44254.0  44.662494  72.120593  0.0  1.0  5.0  16.0  48.0   \n",
       "\n",
       "                  90%     99%    max  \n",
       "sum_gamerounds  125.0  369.47  493.0  "
      ]
     },
     "execution_count": 1106,
     "metadata": {},
     "output_type": "execute_result"
    }
   ],
   "source": [
    "df1[df1['version']=='gate_30'][['sum_gamerounds']].describe([0.1,0.25,0.75,0.9,0.99], include=[np.number]).T"
   ]
  },
  {
   "cell_type": "code",
   "execution_count": 1107,
   "id": "e578f7e0",
   "metadata": {},
   "outputs": [
    {
     "data": {
      "text/html": [
       "<div>\n",
       "<style scoped>\n",
       "    .dataframe tbody tr th:only-of-type {\n",
       "        vertical-align: middle;\n",
       "    }\n",
       "\n",
       "    .dataframe tbody tr th {\n",
       "        vertical-align: top;\n",
       "    }\n",
       "\n",
       "    .dataframe thead th {\n",
       "        text-align: right;\n",
       "    }\n",
       "</style>\n",
       "<table border=\"1\" class=\"dataframe\">\n",
       "  <thead>\n",
       "    <tr style=\"text-align: right;\">\n",
       "      <th></th>\n",
       "      <th>count</th>\n",
       "      <th>mean</th>\n",
       "      <th>std</th>\n",
       "      <th>min</th>\n",
       "      <th>10%</th>\n",
       "      <th>25%</th>\n",
       "      <th>50%</th>\n",
       "      <th>75%</th>\n",
       "      <th>90%</th>\n",
       "      <th>99%</th>\n",
       "      <th>max</th>\n",
       "    </tr>\n",
       "  </thead>\n",
       "  <tbody>\n",
       "    <tr>\n",
       "      <th>sum_gamerounds</th>\n",
       "      <td>45037.0</td>\n",
       "      <td>44.396385</td>\n",
       "      <td>71.539695</td>\n",
       "      <td>0.0</td>\n",
       "      <td>1.0</td>\n",
       "      <td>5.0</td>\n",
       "      <td>16.0</td>\n",
       "      <td>50.0</td>\n",
       "      <td>124.0</td>\n",
       "      <td>362.64</td>\n",
       "      <td>493.0</td>\n",
       "    </tr>\n",
       "  </tbody>\n",
       "</table>\n",
       "</div>"
      ],
      "text/plain": [
       "                  count       mean        std  min  10%  25%   50%   75%  \\\n",
       "sum_gamerounds  45037.0  44.396385  71.539695  0.0  1.0  5.0  16.0  50.0   \n",
       "\n",
       "                  90%     99%    max  \n",
       "sum_gamerounds  124.0  362.64  493.0  "
      ]
     },
     "execution_count": 1107,
     "metadata": {},
     "output_type": "execute_result"
    }
   ],
   "source": [
    "df1[df1['version']=='gate_40'][['sum_gamerounds']].describe([0.1,0.25,0.75,0.9,0.99], include=[np.number]).T"
   ]
  },
  {
   "cell_type": "code",
   "execution_count": 1108,
   "id": "74f3889a",
   "metadata": {},
   "outputs": [
    {
     "data": {
      "image/png": "[encoded data removed]",
      "text/plain": [
       "<Figure size 600x400 with 2 Axes>"
      ]
     },
     "metadata": {},
     "output_type": "display_data"
    }
   ],
   "source": [
    "#boxplot for sum_gamerounds after remove outliers\n",
    "gate30game = df1[df1['version']=='gate_30'][['sum_gamerounds']]\n",
    "gate40game = df1[df1['version']=='gate_40'][['sum_gamerounds']]\n",
    "\n",
    "fig, ax = plt.subplots(1, 2, figsize = (6,4))\n",
    "\n",
    "ax[0].boxplot(gate30game)\n",
    "ax[0].set_xlabel('gate_30')\n",
    "ax[0].set_ylabel('percentile')\n",
    "\n",
    "\n",
    "ax[1].boxplot(gate40game)\n",
    "ax[1].set_xlabel('gate_40')\n",
    "\n",
    "\n",
    "fig.suptitle('Boxplot for game rounds played')\n",
    "plt.show()"
   ]
  },
  {
   "cell_type": "code",
   "execution_count": 1120,
   "id": "1f64a4ed",
   "metadata": {},
   "outputs": [
    {
     "data": {
      "image/png": "[encoded data removed]",
      "text/plain": [
       "<Figure size 1000x600 with 2 Axes>"
      ]
     },
     "metadata": {},
     "output_type": "display_data"
    }
   ],
   "source": [
    "#histogram for sum_gamerounds \n",
    "\n",
    "fig, ax = plt.subplots(1,2, figsize = (10,6))\n",
    "\n",
    "ax[0].hist(gate30game, range = [0,200], bins = 200)\n",
    "ax[1].hist(gate40game,  range = [0,200], bins = 200)\n",
    "\n",
    "plt.tight_layout()\n",
    "plt.show()"
   ]
  },
  {
   "cell_type": "code",
   "execution_count": 1121,
   "id": "db15171b",
   "metadata": {},
   "outputs": [],
   "source": [
    "#check the sample ratio misatch(SRM) to see if the data in control and treatment groups are imbalanced.\n",
    "from scipy.stats import chisquare\n",
    "\n",
    "def srm(control, treatment):\n",
    "    real = [control, treatment]\n",
    "    total_amount = sum(real)\n",
    "    expected = [total_amount/2, total_amount/2]\n",
    "    print(f'No. of players in control group(i.e. gate_30 group) is {control}')\n",
    "    print(f'No. of players in control group(i.e. gate_40 group) is {treatment}')\n",
    "    \n",
    "    stats, pvalue = chisquare(real, expected)\n",
    "    if pvalue <0.01:\n",
    "        print('The sample ratio misatch exists')\n",
    "    else:\n",
    "        print(\"The sample ratio misatch doesn't exist\")\n",
    "    return stats, pvalue"
   ]
  },
  {
   "cell_type": "code",
   "execution_count": 1122,
   "id": "d6b2dd18",
   "metadata": {},
   "outputs": [
    {
     "name": "stdout",
     "output_type": "stream",
     "text": [
      "No. of players in control group(i.e. gate_30 group) is 44254\n",
      "No. of players in control group(i.e. gate_40 group) is 45037\n",
      "The sample ratio misatch exists\n",
      "0.0424953577475377\n"
     ]
    }
   ],
   "source": [
    "#for 1-day retention\n",
    "gt_30 = df1[df1['version']=='gate_30'].count()[0]\n",
    "gt_40 = df1[df1['version']=='gate_40'].count()[0]\n",
    "# real = [gt_30, gt_40]\n",
    "# total_amount = sum(real)\n",
    "# expected = [total_amount/2, total_amount/2]\n",
    "\n",
    "srm(gt_30, gt_40)\n",
    "print(pvalue)"
   ]
  },
  {
   "cell_type": "code",
   "execution_count": 1123,
   "id": "0b3f2e67",
   "metadata": {},
   "outputs": [
    {
     "name": "stdout",
     "output_type": "stream",
     "text": [
      "No. of players in control group(i.e. gate_30 group) is 44000\n",
      "No. of players in control group(i.e. gate_40 group) is 44000\n",
      "The sample ratio misatch doesn't exist\n"
     ]
    },
    {
     "data": {
      "text/plain": [
       "(0.0, 1.0)"
      ]
     },
     "execution_count": 1123,
     "metadata": {},
     "output_type": "execute_result"
    }
   ],
   "source": [
    "#since the srm exists, going to randomly sample 44k sample data from each group in the original dataset \n",
    "#to obtain a new dataset with balanced groups. \n",
    "\n",
    "gate_30_sample = df1[df1['version']=='gate_30'].sample(n = 44000, random_state = 123)\n",
    "gate_40_sample = df1[df1['version']=='gate_40'].sample(n = 44000, random_state = 123)\n",
    "\n",
    "srm(gate_30_sample.count()[0], gate_40_sample.count()[0])"
   ]
  },
  {
   "cell_type": "code",
   "execution_count": 1124,
   "id": "af4a2b10",
   "metadata": {},
   "outputs": [],
   "source": [
    "# The new dataframe after resampling:\n",
    "df1 = pd.concat([gate_30_sample, gate_40_sample], ignore_index = True)"
   ]
  },
  {
   "cell_type": "code",
   "execution_count": 1125,
   "id": "2069d7ac",
   "metadata": {},
   "outputs": [],
   "source": [
    "from matplotlib import pyplot as plt\n",
    "import seaborn as sns"
   ]
  },
  {
   "cell_type": "code",
   "execution_count": 1126,
   "id": "e3a39958",
   "metadata": {},
   "outputs": [
    {
     "data": {
      "image/png": "[encoded data removed]",
      "text/plain": [
       "<Figure size 1000x400 with 2 Axes>"
      ]
     },
     "metadata": {},
     "output_type": "display_data"
    }
   ],
   "source": [
    "bar = np.arange(len(counts1))\n",
    "counts1 = [df1[df1['version']=='gate_30']['version'].count(),df1[df1['version']=='gate_40']['version'].count()]\n",
    "xtick =  df1['version'].unique().tolist()       \n",
    "\n",
    "fig,ax = plt.subplots(1,2,figsize=(10,4))\n",
    "ax[0].bar(bar,counts1, width = 0.3)\n",
    "ax[0].set_xlabel('category')\n",
    "ax[0].set_ylabel('number of units')\n",
    "ax[0].set_xticks([r for r  in bar], xtick)\n",
    "                 \n",
    "                 \n",
    "retention1 = [sum(df1[df1['retention_1']==1]['version']=='gate_30'), sum(df[df['retention_1']==1]['version']=='gate_40')]\n",
    "retention7 = [sum(df1[df1['retention_7']==1]['version']=='gate_30'), sum(df[df['retention_7']==1]['version']=='gate_40')]\n",
    "xtick =  df1['version'].unique().tolist()  \n",
    "barWidth = 0.3\n",
    "\n",
    "bar1 = np.arange(len(retention1))\n",
    "bar2 = [x+ barWidth for x in bar1]\n",
    "\n",
    "\n",
    "ax[1].bar(bar1,retention1, width = barWidth, label = 'retention_1')\n",
    "ax[1].bar(bar2,retention7, width = barWidth, label = 'retention_7')               \n",
    "ax[1].set_xlabel('category')\n",
    "# ax[1].set_ylabel('number of units')\n",
    "# plt.xticks([r+barWidth/2 for r in range(len(retention1))],xtick)\n",
    "ax[1].set_xticks([r + barWidth / 2 for r in range(len(retention1))])\n",
    "ax[1].set_xticklabels(xtick)\n",
    "ax[1].legend(loc ='upper right', borderpad =0.4, fontsize=6.5)\n",
    "\n",
    "\n",
    "plt.tight_layout()\n",
    "plt.show()\n"
   ]
  },
  {
   "cell_type": "code",
   "execution_count": 1127,
   "id": "f2380262",
   "metadata": {},
   "outputs": [
    {
     "data": {
      "text/html": [
       "<div>\n",
       "<style scoped>\n",
       "    .dataframe tbody tr th:only-of-type {\n",
       "        vertical-align: middle;\n",
       "    }\n",
       "\n",
       "    .dataframe tbody tr th {\n",
       "        vertical-align: top;\n",
       "    }\n",
       "\n",
       "    .dataframe thead th {\n",
       "        text-align: right;\n",
       "    }\n",
       "</style>\n",
       "<table border=\"1\" class=\"dataframe\">\n",
       "  <thead>\n",
       "    <tr style=\"text-align: right;\">\n",
       "      <th></th>\n",
       "      <th>retention_1</th>\n",
       "    </tr>\n",
       "    <tr>\n",
       "      <th>version</th>\n",
       "      <th></th>\n",
       "    </tr>\n",
       "  </thead>\n",
       "  <tbody>\n",
       "    <tr>\n",
       "      <th>gate_30</th>\n",
       "      <td>0.443250</td>\n",
       "    </tr>\n",
       "    <tr>\n",
       "      <th>gate_40</th>\n",
       "      <td>0.436364</td>\n",
       "    </tr>\n",
       "  </tbody>\n",
       "</table>\n",
       "</div>"
      ],
      "text/plain": [
       "         retention_1\n",
       "version             \n",
       "gate_30     0.443250\n",
       "gate_40     0.436364"
      ]
     },
     "execution_count": 1127,
     "metadata": {},
     "output_type": "execute_result"
    }
   ],
   "source": [
    "rrate_1 = df1.groupby('version').agg({'retention_1':'sum'})/df1.groupby('version').agg({'retention_1':'count'})\n",
    "rrate_1"
   ]
  },
  {
   "cell_type": "code",
   "execution_count": 1128,
   "id": "6db88a82",
   "metadata": {},
   "outputs": [
    {
     "data": {
      "text/html": [
       "<div>\n",
       "<style scoped>\n",
       "    .dataframe tbody tr th:only-of-type {\n",
       "        vertical-align: middle;\n",
       "    }\n",
       "\n",
       "    .dataframe tbody tr th {\n",
       "        vertical-align: top;\n",
       "    }\n",
       "\n",
       "    .dataframe thead th {\n",
       "        text-align: right;\n",
       "    }\n",
       "</style>\n",
       "<table border=\"1\" class=\"dataframe\">\n",
       "  <thead>\n",
       "    <tr style=\"text-align: right;\">\n",
       "      <th></th>\n",
       "      <th>retention_7</th>\n",
       "    </tr>\n",
       "    <tr>\n",
       "      <th>version</th>\n",
       "      <th></th>\n",
       "    </tr>\n",
       "  </thead>\n",
       "  <tbody>\n",
       "    <tr>\n",
       "      <th>gate_30</th>\n",
       "      <td>0.182523</td>\n",
       "    </tr>\n",
       "    <tr>\n",
       "      <th>gate_40</th>\n",
       "      <td>0.174068</td>\n",
       "    </tr>\n",
       "  </tbody>\n",
       "</table>\n",
       "</div>"
      ],
      "text/plain": [
       "         retention_7\n",
       "version             \n",
       "gate_30     0.182523\n",
       "gate_40     0.174068"
      ]
     },
     "execution_count": 1128,
     "metadata": {},
     "output_type": "execute_result"
    }
   ],
   "source": [
    "rrate_7 = df1.groupby('version').agg({'retention_7':'sum'})/df1.groupby('version').agg({'retention_7':'count'})\n",
    "rrate_7"
   ]
  },
  {
   "cell_type": "code",
   "execution_count": 1129,
   "id": "1bb5b848",
   "metadata": {
    "scrolled": true
   },
   "outputs": [
    {
     "name": "stdout",
     "output_type": "stream",
     "text": [
      "percentage of 1-day retention for gate_30 version is 0.4432\n",
      "percentage of 1-day retention for gate_40 version is 0.4364\n",
      "percentage of 7-day retention for gate_30 version is 0.1825\n",
      "percentage of 7-day retention for gate_40 version is 0.1741\n"
     ]
    }
   ],
   "source": [
    "#1-day retention and 7-day retention rates look similar for control and treatment group. \n",
    "#7-day retention rate drops around 26% comparing to 1-day retention rate for both groups. It would be worthy\n",
    "#investigating the reason and come up with remedy solutions. \n",
    "\n",
    "print('percentage of 1-day retention for gate_30 version is %s'%(round(rrate_1['retention_1']['gate_30'],4)))\n",
    "print('percentage of 1-day retention for gate_40 version is %s'%(round(rrate_1['retention_1']['gate_40'],4)))\n",
    "print('percentage of 7-day retention for gate_30 version is %s'%(round(rrate_7['retention_7']['gate_30'],4)))\n",
    "print('percentage of 7-day retention for gate_40 version is %s'%(round(rrate_7['retention_7']['gate_40'],4)))"
   ]
  },
  {
   "cell_type": "code",
   "execution_count": 1130,
   "id": "ac2ebba8",
   "metadata": {},
   "outputs": [
    {
     "data": {
      "image/png": "[encoded data removed]",
      "text/plain": [
       "<Figure size 1000x600 with 6 Axes>"
      ]
     },
     "metadata": {},
     "output_type": "display_data"
    }
   ],
   "source": [
    "\n",
    "\n",
    "r1_g30 = round(rrate_1['retention_1']['gate_30'],4)\n",
    "r1_g40 = round(rrate_1['retention_1']['gate_40'],4)\n",
    "r7_g30 = round(rrate_7['retention_7']['gate_30'],4)\n",
    "r7_g40 = round(rrate_7['retention_7']['gate_40'],4)\n",
    "label = ['Ture','False']\n",
    "explode = (0.05, 0.05)\n",
    "\n",
    "fig, ax = plt.subplots(3,2, figsize=(10, 6))\n",
    "ax[0][0].pie([r1_g30, 1-r1_g30], labels = label, autopct='%1.1f%%',explode=explode)\n",
    "ax[0][0].set_title('1-day retention for gate_30 group')\n",
    "ax[0][1].pie([r7_g30, 1-r7_g30], labels = label, autopct='%1.1f%%',explode=explode)\n",
    "ax[0][1].set_title('7-day retention for gate_30 group')\n",
    "\n",
    "ax[1][0].pie([r7_g30, 1-r7_g30], labels = label, autopct='%1.1f%%',colors = ['orchid','green'],explode=explode)\n",
    "ax[1][0].set_title('7-day retention for gate_30 group')\n",
    "ax[1][1].pie([r7_g40, 1-r7_g40], labels = label, autopct='%1.1f%%', colors = ['orchid','green'],explode=explode)\n",
    "ax[1][1].set_title('7-day retention for gate_40 group')\n",
    "\n",
    "ax[2][0].pie([r1_g30, 1-r1_g30], labels = label, autopct = '%1.1f%%', colors = ['orchid','green'] , explode = explode)\n",
    "ax[2][0].set_title('1-day retention for gate_30 group')\n",
    "ax[2][1].pie([r1_g40, 1-r1_g40], labels = label, autopct = '%.1f%%', colors = ['orchid','green'], explode = explode)\n",
    "ax[2][1].set_title('1-day retention for gate_40 group')\n",
    "\n",
    "plt.tight_layout()\n",
    "plt.show()"
   ]
  },
  {
   "cell_type": "markdown",
   "id": "374a0ca3",
   "metadata": {},
   "source": [
    "#####  insights: \n",
    "1. 7-day retention rate is around 26% lower than 1 day retention rate. The company should figure out some ways such as provide in game award to improve long term retention rate\n",
    "2. The retention rate dropeed when moving the gate from level 30 to level 40 which is a counterintuitive phenomenon. This could be because the difficulties increase as level progresses and players can't clear the stage and thus abandon the game, or might due to the decrease of novelty after playing for a long time. Either way, the negative effect surpass the postive effect of postponing the gate from level 30 to level 40. We should consider to what extent can we attribute thec change of retention to the change of starting level of gate."
   ]
  },
  {
   "cell_type": "markdown",
   "id": "ec1d7ec0",
   "metadata": {},
   "source": [
    "### A/B Testing\n",
    "\n",
    "#### 1. Unit of variant: \n",
    "    Control group: units belong to gate_30; Treatment group: units belong to gate_40\n",
    "\n",
    "#### 2. Decide statistical power: 0.8; Significance level: 0.05\n",
    "\n",
    "#### 3. 3 questions to test:\n",
    "    3.1. Is there significant difference of sum_gamerounds between countrol and treatment group\n",
    "    3.2. Is there significant difference of 1-day retention rate between countrol and treatment group\n",
    "    3.3. Is there significant difference of 7-day retention rate between countrol and treatment group\n",
    "\n",
    "#### 4. Check nomality and homogeneity before deciding which test to use"
   ]
  },
  {
   "cell_type": "code",
   "execution_count": 1138,
   "id": "68ebe8aa",
   "metadata": {},
   "outputs": [],
   "source": [
    "#Check nomality and homogeneity \n",
    "#for sum_gamerounds\n",
    "from scipy.stats import shapiro, levene \n",
    "import warnings\n",
    "\n",
    "\n",
    "\n",
    "def noramlity_test(x):\n",
    "    stats,pvalue = shapiro(x)\n",
    "    if pvalue<0.05:\n",
    "        print('The distribution of this group is not normal')\n",
    "        warnings.filterwarnings('ignore')\n",
    "    else:\n",
    "        print('The distribution of this group is normal')\n",
    "        warnings.filterwarnings('ignore')\n",
    "    \n",
    "    return stats, pvalue\n",
    "\n",
    "def homogeneity_test(x1, x2):\n",
    "    stats, pvalue = levene(x1, x2)\n",
    "    if pvalue<0.05:\n",
    "        print('The samples are not from populations with equal variances')\n",
    "        warnings.filterwarnings('ignore')\n",
    "    else:\n",
    "        print('The samples are from populations with equal variances')\n",
    "        warnings.filterwarnings('ignore')\n",
    "    return stats, pvalue"
   ]
  },
  {
   "cell_type": "code",
   "execution_count": 1139,
   "id": "46172230",
   "metadata": {
    "scrolled": true
   },
   "outputs": [
    {
     "name": "stdout",
     "output_type": "stream",
     "text": [
      "The distribution of this group is not normal\n",
      "0.0000\n",
      "The distribution of this group is not normal\n",
      "0.0000\n",
      "The samples are from populations with equal variances\n",
      "0.9415\n"
     ]
    }
   ],
   "source": [
    "group1 =df1[df1['version']=='gate_30'][['sum_gamerounds']] #gate_30 group, control group\n",
    "group2 =df1[df1['version']== 'gate_40'][['sum_gamerounds']] #gate_40 group, treatment group\n",
    "\n",
    "\n",
    "pvalue_control1 = noramlity_test(group1)[1]\n",
    "print('%.4f' %pvalue_control1)\n",
    "pvalue_treatment1 = noramlity_test(group2)[1]\n",
    "print(\"%.4f\" %pvalue_treatment1)\n",
    "\n",
    "pvalue2 = homogeneity_test(group1['sum_gamerounds'], group2['sum_gamerounds'])[1]\n",
    "print('%.4f' %pvalue2)\n",
    "\n",
    "\n",
    "#based on the result, we could conclude that the distribution of the samples are not normal, \n",
    "#even though the two groups are homogeneous. So we should use non-parametric test--> mann whitney test"
   ]
  },
  {
   "cell_type": "code",
   "execution_count": 1133,
   "id": "214d5a86",
   "metadata": {},
   "outputs": [],
   "source": [
    "#Is there significant difference of sum_gamerounds between countrol and treatment group\n",
    "#Hypothesis:\n",
    "#H0: mean_sum_gamerounds(gate_30) = mean_sum_gamerounds(gate_40)\n",
    "#H1: mean_sum_gamerounds(gate_30) != mean_sum_gamerounds(gate_40)\n",
    "\n",
    "#use mann whitney test\n",
    "\n",
    "\n",
    "\n",
    "from scipy.stats import mannwhitneyu\n",
    "\n",
    "def mann_whitney(x1,x2):\n",
    "    stats, pvalue = mannwhitneyu(x1, x2)\n",
    "    if pvalue <0.05:\n",
    "        print('The game rounds played by two groups are different')\n",
    "    else:\n",
    "        print('The game rounds played by two groups are not different')\n",
    "    return stats, pvalue"
   ]
  },
  {
   "cell_type": "code",
   "execution_count": 1134,
   "id": "c25aca48",
   "metadata": {},
   "outputs": [
    {
     "data": {
      "text/plain": [
       "-0.25225000000000364"
      ]
     },
     "execution_count": 1134,
     "metadata": {},
     "output_type": "execute_result"
    }
   ],
   "source": [
    "# The difference between control group and treatment group is -0.266\n",
    "df1.groupby('version')['sum_gamerounds'].mean().diff()[1]"
   ]
  },
  {
   "cell_type": "code",
   "execution_count": 1135,
   "id": "934cf83c",
   "metadata": {},
   "outputs": [
    {
     "name": "stdout",
     "output_type": "stream",
     "text": [
      "The game rounds played by two groups are different\n"
     ]
    },
    {
     "data": {
      "text/plain": [
       "0.0424953577475377"
      ]
     },
     "execution_count": 1135,
     "metadata": {},
     "output_type": "execute_result"
    }
   ],
   "source": [
    "stats, pvalue = mann_whitney(group1['sum_gamerounds'],group2['sum_gamerounds'])\n",
    "pvalue"
   ]
  },
  {
   "cell_type": "markdown",
   "id": "4765d44f",
   "metadata": {},
   "source": [
    "#### 5. Conclusion\n",
    "    The p-value for mann whitney test is smaller than 0.05, therefore we can reject the null hypothesis and \n",
    "    conclude that the difference of game rounds played between the control and treatment group is statistically \n",
    "    significantly different.\n",
    "    However, since the difference is really small, less than 1 round and the p value is very close to 0.05, \n",
    "    futher research need to be done."
   ]
  },
  {
   "cell_type": "markdown",
   "id": "f77d69fb",
   "metadata": {},
   "source": [
    "### A/B test\n",
    "#### 3. 3 questions to test:\n",
    "    3.2. Is there significant difference of 1-day retention rate between countrol and treatment group\n",
    "    3.3. Is there significant difference of 7-day retention rate between countrol and treatment group\n",
    "   "
   ]
  },
  {
   "cell_type": "code",
   "execution_count": 1064,
   "id": "09a5ef03",
   "metadata": {},
   "outputs": [],
   "source": [
    "#check if there is significant difference of retention between gate_30 group and gate_40 group\n",
    "\n",
    "from scipy.stats import chi2_contingency\n",
    "\n",
    "def check_retention(contingency_table, alpha):\n",
    "    stats, pvalue, _, _ = chi2_contingency(contingency_table)\n",
    "    if pvalue<alpha:\n",
    "        print('The null hyphothesis is rejected, therefore there is significant difference of retention between gate_30 group and gate_40 group')\n",
    "    \n",
    "    else:\n",
    "        print('There is no significant difference of retention between gate_30 group and gate_40 group')\n",
    "    \n",
    "    return print(f'p-value: {pvalue}')\n",
    "    "
   ]
  },
  {
   "cell_type": "code",
   "execution_count": 1065,
   "id": "73992f07",
   "metadata": {},
   "outputs": [],
   "source": [
    "retention_1_contigency = pd.crosstab(df1['version'], df1['retention_1'])\n",
    "retention_7_contigency = pd.crosstab(df1['version'], df1['retention_7'])"
   ]
  },
  {
   "cell_type": "markdown",
   "id": "68db3217",
   "metadata": {},
   "source": [
    "###### null hypothesis: there is no significant difference of 1-day retention between gate_30 group and gate_40 group\n",
    "###### alternative hypothesis: there is significant difference of 1-day retention between gate_30 group and gate_40 group"
   ]
  },
  {
   "cell_type": "code",
   "execution_count": 1066,
   "id": "fb206da5",
   "metadata": {},
   "outputs": [
    {
     "name": "stdout",
     "output_type": "stream",
     "text": [
      "The null hyphothesis is rejected, therefore there is significant difference of retention between gate_30 group and gate_40 group\n",
      "p-value: 0.04026691994298541\n"
     ]
    }
   ],
   "source": [
    "check_retention(retention_1_contigency, 0.05)"
   ]
  },
  {
   "cell_type": "markdown",
   "id": "8a256262",
   "metadata": {},
   "source": [
    "#### 5. Conclusion\n",
    "The p-value from chisquare contingency test is smaller than 0.05, therefore we can reject the null hypothesis and conclude that the difference of 1-day retention rate between control and treatment groups is statistically significantly different."
   ]
  },
  {
   "cell_type": "code",
   "execution_count": null,
   "id": "893b824c",
   "metadata": {},
   "outputs": [],
   "source": []
  },
  {
   "cell_type": "markdown",
   "id": "860970c4",
   "metadata": {},
   "source": [
    "###### null hypothesis: there is no significant difference of 7-day retention between gate_30 group and gate_40 group\n",
    "###### alternative hypothesis: there is significant difference of 7-day retention between gate_30 group and gate_40 group"
   ]
  },
  {
   "cell_type": "code",
   "execution_count": 1067,
   "id": "0d6f7686",
   "metadata": {},
   "outputs": [
    {
     "name": "stdout",
     "output_type": "stream",
     "text": [
      "The null hyphothesis is rejected, therefore there is significant difference of retention between gate_30 group and gate_40 group\n",
      "p-value: 0.001085336027018581\n"
     ]
    }
   ],
   "source": [
    "check_retention(retention_7_contigency, 0.05)"
   ]
  },
  {
   "cell_type": "markdown",
   "id": "c2563007",
   "metadata": {},
   "source": [
    "#### 5. Conclusion\n",
    "The p-value from chisquare contingency test is smaller than 0.05, therefore we can reject the null hypothesis and conclude that the difference of 7-day retention rate between control and treatment groups is statistically significantly different.\n",
    "\n",
    "However, as I mentioned above, both the 1-day and 7-day retention rates dropped when moving the gate from level 30 to level 40 which is a counterintuitive phenomenon. This could be because the difficulties increase as level progresses and players can't clear the stage and thus abandon the game, or might due to the decrease of novelty after playing for a long time. Either way, the negative effect surpass the postive effect of postponing the gate from level 30 to level 40. We should consider to what extent can we attribute thec change of retention to the change of starting level of gate."
   ]
  },
  {
   "cell_type": "code",
   "execution_count": null,
   "id": "6d12bb53",
   "metadata": {},
   "outputs": [],
   "source": []
  },
  {
   "cell_type": "code",
   "execution_count": null,
   "id": "522abe81",
   "metadata": {},
   "outputs": [],
   "source": []
  },
  {
   "cell_type": "code",
   "execution_count": null,
   "id": "44c800bf",
   "metadata": {},
   "outputs": [],
   "source": []
  },
  {
   "cell_type": "code",
   "execution_count": null,
   "id": "a4773bab",
   "metadata": {},
   "outputs": [],
   "source": []
  }
 ],
 "metadata": {
  "kernelspec": {
   "display_name": "myenv",
   "language": "python",
   "name": "myenv"
  },
  "language_info": {
   "codemirror_mode": {
    "name": "ipython",
    "version": 3
   },
   "file_extension": ".py",
   "mimetype": "text/x-python",
   "name": "python",
   "nbconvert_exporter": "python",
   "pygments_lexer": "ipython3",
   "version": "3.8.12"
  }
 },
 "nbformat": 4,
 "nbformat_minor": 5
}
